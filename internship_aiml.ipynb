{
  "nbformat": 4,
  "nbformat_minor": 0,
  "metadata": {
    "colab": {
      "provenance": [],
      "authorship_tag": "ABX9TyO3z6tI1SZpFoUnFDm99jWy"
    },
    "kernelspec": {
      "name": "python3",
      "display_name": "Python 3"
    },
    "language_info": {
      "name": "python"
    }
  },
  "cells": [
    {
      "cell_type": "code",
      "execution_count": null,
      "metadata": {
        "colab": {
          "base_uri": "https://localhost:8080/"
        },
        "id": "5w_vqIbyx1f2",
        "outputId": "2294f37c-1659-4b1b-a336-3e9396b79ab4"
      },
      "outputs": [
        {
          "output_type": "stream",
          "name": "stdout",
          "text": [
            "v1 is zero\n"
          ]
        }
      ],
      "source": [
        "v1=0               #if else\n",
        "if v1==0:\n",
        "  print(\"v1 is zero\")\n",
        "else:\n",
        "    print(\"not zero\")"
      ]
    },
    {
      "cell_type": "code",
      "source": [
        "number =0                  #if elif\n",
        "if number>0:\n",
        "  print(\"postive number\")\n",
        "elif number==0:\n",
        "  print('zero')\n",
        "else:\n",
        "  print('negative number')"
      ],
      "metadata": {
        "colab": {
          "base_uri": "https://localhost:8080/"
        },
        "id": "Xg-teELqyVOk",
        "outputId": "79992733-1b4d-4dcb-f997-67c2ff51f3db"
      },
      "execution_count": null,
      "outputs": [
        {
          "output_type": "stream",
          "name": "stdout",
          "text": [
            "zero\n"
          ]
        }
      ]
    },
    {
      "cell_type": "code",
      "source": [
        "x=41                       #nested if\n",
        "if x>10:\n",
        "  print(\"above ten,\")\n",
        "  if x> 20:\n",
        "    print(\"and also above 20\")\n",
        "  else:\n",
        "    print(\"but not above 20\")"
      ],
      "metadata": {
        "colab": {
          "base_uri": "https://localhost:8080/"
        },
        "id": "tq9OEifWy21c",
        "outputId": "efd269a4-447e-4c34-9dd9-934afb7af5bf"
      },
      "execution_count": null,
      "outputs": [
        {
          "output_type": "stream",
          "name": "stdout",
          "text": [
            "above ten,\n",
            "and also above 20\n"
          ]
        }
      ]
    },
    {
      "cell_type": "code",
      "source": [
        "a=input(\"enter a number :\")\n",
        "print(a)"
      ],
      "metadata": {
        "colab": {
          "base_uri": "https://localhost:8080/"
        },
        "id": "n1q0p_qi4Pg0",
        "outputId": "7570c561-281b-4ba7-e744-3a93d2b0cfee"
      },
      "execution_count": null,
      "outputs": [
        {
          "output_type": "stream",
          "name": "stdout",
          "text": [
            "enter a number :2\n",
            "2\n"
          ]
        }
      ]
    },
    {
      "cell_type": "code",
      "source": [
        "import random\n",
        "print(random.randrange(1,10))"
      ],
      "metadata": {
        "colab": {
          "base_uri": "https://localhost:8080/"
        },
        "id": "gLgsPZQ433gj",
        "outputId": "bd92d322-4625-422c-e462-22da1fe93f04"
      },
      "execution_count": null,
      "outputs": [
        {
          "output_type": "stream",
          "name": "stdout",
          "text": [
            "6\n"
          ]
        }
      ]
    },
    {
      "cell_type": "code",
      "source": [
        "import random\n",
        "b=random.randrange(1,10)\n",
        "print(b)\n",
        "a=int(input(\"enter a number :\"))\n",
        "if a==b :\n",
        "  print(\"u won\")\n",
        "else:\n",
        "    print(\"u fail\")\n",
        "\n"
      ],
      "metadata": {
        "colab": {
          "base_uri": "https://localhost:8080/"
        },
        "id": "vQIsodTM4j27",
        "outputId": "a1b0f36a-f5cd-4b8b-9a25-a8efcddfcff8"
      },
      "execution_count": null,
      "outputs": [
        {
          "output_type": "stream",
          "name": "stdout",
          "text": [
            "8\n",
            "enter a number :8\n",
            "u won\n"
          ]
        }
      ]
    },
    {
      "cell_type": "code",
      "source": [
        "a= int(input(\"enter a number :\"))\n",
        "if a %2 == 0:\n",
        "   print(\"even\")\n",
        "else :\n",
        "    print(\"odd\")"
      ],
      "metadata": {
        "colab": {
          "base_uri": "https://localhost:8080/"
        },
        "id": "vtbsaIbJ_f5T",
        "outputId": "8e275fe6-551d-4bb0-fd8b-db80503e90ec"
      },
      "execution_count": null,
      "outputs": [
        {
          "output_type": "stream",
          "name": "stdout",
          "text": [
            "enter a number :12\n",
            "even\n"
          ]
        }
      ]
    },
    {
      "cell_type": "code",
      "source": [
        "a= int(input(\"enter a number :\"))\n",
        "b= int(input(\"enter a number :\"))\n",
        "if a>b:\n",
        "  print(a)\n",
        "if b>a:\n",
        "    print(b)\n",
        "if b %2==0:\n",
        "    print(\"even\")\n",
        "else:\n",
        "  print:(\"odd\")\n"
      ],
      "metadata": {
        "colab": {
          "base_uri": "https://localhost:8080/"
        },
        "id": "I4OMRSEV6E4r",
        "outputId": "5777a73a-78c7-4676-b511-bda6aae7820b"
      },
      "execution_count": null,
      "outputs": [
        {
          "output_type": "stream",
          "name": "stdout",
          "text": [
            "enter a number :9\n",
            "enter a number :6\n",
            "9\n",
            "even\n"
          ]
        }
      ]
    },
    {
      "cell_type": "code",
      "source": [],
      "metadata": {
        "id": "BNB90IVN9EJb"
      },
      "execution_count": null,
      "outputs": []
    },
    {
      "cell_type": "code",
      "source": [
        "a= int(input(\"enter a number :\"))\n",
        "b= int(input(\"enter a number :\"))\n",
        "if a>b:\n",
        "  print(a)\n",
        "else:\n",
        "    print(b)"
      ],
      "metadata": {
        "colab": {
          "base_uri": "https://localhost:8080/"
        },
        "outputId": "da908912-a745-442c-b7f4-f049906c6372",
        "id": "1pCDBFm9_xux"
      },
      "execution_count": null,
      "outputs": [
        {
          "output_type": "stream",
          "name": "stdout",
          "text": [
            "enter a number :8\n",
            "enter a number :14\n",
            "14\n"
          ]
        }
      ]
    },
    {
      "cell_type": "markdown",
      "source": [],
      "metadata": {
        "id": "NZ6u6lpK9BzT"
      }
    }
  ]
}